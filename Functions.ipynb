{
  "nbformat": 4,
  "nbformat_minor": 0,
  "metadata": {
    "colab": {
      "provenance": []
    },
    "kernelspec": {
      "name": "python3",
      "display_name": "Python 3"
    },
    "language_info": {
      "name": "python"
    }
  },
  "cells": [
    {
      "cell_type": "markdown",
      "source": [
        "# Functions Assignment\n",
        "## Theory Questions\n",
        "\n",
        "###1. What is the difference between a function and a method in Python?\n",
        "###*Functions\n",
        "- They are independent blocks of code designed from where it can be called from anywhere in the program.\n",
        "-  Functions are independent of any class or object.\n",
        "- Functions can be invoked directly by their name.\n",
        "###*Methods\n",
        "- An instance or the object of the class calls the methods. Methods are functions defined within a class.\n",
        "- Methods are attached to a class instance and can refer to the instance's attributes.\n",
        "- Methods are invoked on an object (an instance of a class) using the dot operator (e.g., obj. method())."
      ],
      "metadata": {
        "id": "BPNWKfUsrtuy"
      }
    },
    {
      "cell_type": "code",
      "source": [
        "# Example\n",
        "\n",
        "# Function\n",
        "def greet(name):\n",
        "    print(f\"Hello, {name}!\")\n",
        "\n",
        "# Class with a method\n",
        "class Person:\n",
        "    def __init__(self, name):\n",
        "        self.name = name\n",
        "\n",
        "    def say_hello(self):\n",
        "        print(f\"Hello, my name is {self.name}!\")\n",
        "\n",
        "# Calling the function\n",
        "greet(\"John\")\n",
        "\n",
        "# Creating an instance and calling the method\n",
        "person = Person(\"Jane\")\n",
        "person.say_hello()\n"
      ],
      "metadata": {
        "colab": {
          "base_uri": "https://localhost:8080/"
        },
        "id": "LCgB7COB7MLE",
        "outputId": "ce9294f2-120f-4bff-cca3-5d5794b91b6f"
      },
      "execution_count": null,
      "outputs": [
        {
          "output_type": "stream",
          "name": "stdout",
          "text": [
            "Hello, John!\n",
            "Hello, my name is Jane!\n"
          ]
        }
      ]
    },
    {
      "cell_type": "markdown",
      "source": [
        "---"
      ],
      "metadata": {
        "id": "Nu5tZsKmVX0a"
      }
    },
    {
      "cell_type": "markdown",
      "source": [
        "###2. Explain the concept of function arguments and parameters in Python.\n",
        "Parameters\n",
        "- Variables defined in the function signature.\n",
        "- Placeholder for values.\n",
        "\n",
        "Arguments\n",
        "- Values passed to the function\n",
        "- Assigned to parameters"
      ],
      "metadata": {
        "id": "k398R0lB7fIk"
      }
    },
    {
      "cell_type": "code",
      "source": [
        "# Example\n",
        "\n",
        "def greet(name):  # 'name' is a parameter\n",
        "    print(f\"Hello, {name}!\")\n",
        "\n",
        "greet(\"John\")  # 'John' is an argument"
      ],
      "metadata": {
        "colab": {
          "base_uri": "https://localhost:8080/"
        },
        "id": "OgNssiyQ8eeE",
        "outputId": "2d588abe-51d8-47de-ab40-5e1cb34f71bb"
      },
      "execution_count": null,
      "outputs": [
        {
          "output_type": "stream",
          "name": "stdout",
          "text": [
            "Hello, John!\n"
          ]
        }
      ]
    },
    {
      "cell_type": "markdown",
      "source": [
        "Types of Arguments\n",
        "1. Positional arguments: Arguments that are passed in the order they are defined in the function signature.\n",
        "2. Keyword arguments: Arguments that are passed using the parameter name, allowing for flexibility in the order of arguments.\n"
      ],
      "metadata": {
        "id": "pTcBJ6NQ8nYK"
      }
    },
    {
      "cell_type": "code",
      "source": [
        "# Example with Keyword Arguments\n",
        "\n",
        "def greet(name, age):\n",
        "    print(f\"Hello, {name}! You are {age} years old.\")\n",
        "\n",
        "greet(age=30, name=\"John\")  # Using keyword arguments"
      ],
      "metadata": {
        "colab": {
          "base_uri": "https://localhost:8080/"
        },
        "id": "VxDfFDm082l8",
        "outputId": "7156baae-86ea-4a75-a3c0-95338eabe845"
      },
      "execution_count": null,
      "outputs": [
        {
          "output_type": "stream",
          "name": "stdout",
          "text": [
            "Hello, John! You are 30 years old.\n"
          ]
        }
      ]
    },
    {
      "cell_type": "markdown",
      "source": [
        "Default Values for Parameters\n",
        "1. Assigning default values: Parameters can be assigned default values, which are used if no argument is passed.\n",
        "2. Optional arguments: Parameters with default values become optional arguments.\n"
      ],
      "metadata": {
        "id": "Qark90dL86AU"
      }
    },
    {
      "cell_type": "code",
      "source": [
        "# Example with Default Values\n",
        "\n",
        "def greet(name, age=30):\n",
        "    print(f\"Hello, {name}! You are {age} years old.\")\n",
        "\n",
        "greet(\"John\")  # Using default value for age\n"
      ],
      "metadata": {
        "colab": {
          "base_uri": "https://localhost:8080/"
        },
        "id": "bi_NHWoo9TmM",
        "outputId": "e3a44aec-e5b6-48d2-ef95-23d5a4948498"
      },
      "execution_count": null,
      "outputs": [
        {
          "output_type": "stream",
          "name": "stdout",
          "text": [
            "Hello, John! You are 30 years old.\n"
          ]
        }
      ]
    },
    {
      "cell_type": "markdown",
      "source": [
        "---"
      ],
      "metadata": {
        "id": "md43NCtVVeDD"
      }
    },
    {
      "cell_type": "markdown",
      "source": [
        "###3. What are the different ways to define and call a function in Python?\n",
        "- **Defining a Function**\n",
        "  - Using the def keyword: This is the most common way to define a function.\n"
      ],
      "metadata": {
        "id": "ILCK6lPu9Zht"
      }
    },
    {
      "cell_type": "code",
      "source": [
        "def greet(name):\n",
        "  print(f\"Hello, {name}!\")"
      ],
      "metadata": {
        "id": "qp9hP8Gj-BDs"
      },
      "execution_count": null,
      "outputs": []
    },
    {
      "cell_type": "markdown",
      "source": [
        "  - Using a lambda function: Lambda functions are small, anonymous functions.\n"
      ],
      "metadata": {
        "id": "UXFXuMHe-Qec"
      }
    },
    {
      "cell_type": "code",
      "source": [
        "greet = lambda name: print(f\"Hello, {name}!\")"
      ],
      "metadata": {
        "id": "wlckj8Bm-iXc"
      },
      "execution_count": null,
      "outputs": []
    },
    {
      "cell_type": "markdown",
      "source": [
        "**Calling a Function**\n",
        "1. Positional arguments: Pass arguments in the order they are defined."
      ],
      "metadata": {
        "id": "vAOaCJ8cSwgS"
      }
    },
    {
      "cell_type": "code",
      "source": [
        "greet(\"Nithin\")"
      ],
      "metadata": {
        "colab": {
          "base_uri": "https://localhost:8080/"
        },
        "id": "m_xG7TUHTgSJ",
        "outputId": "8caca331-175e-4417-ea9d-c03f19979316"
      },
      "execution_count": null,
      "outputs": [
        {
          "output_type": "stream",
          "name": "stdout",
          "text": [
            "Hello, Nithin!\n"
          ]
        }
      ]
    },
    {
      "cell_type": "markdown",
      "source": [
        "2. Keyword arguments: Pass arguments using the parameter name."
      ],
      "metadata": {
        "id": "60hR5RM8TlD6"
      }
    },
    {
      "cell_type": "code",
      "source": [
        "greet(name = \"Jayanth\")"
      ],
      "metadata": {
        "colab": {
          "base_uri": "https://localhost:8080/"
        },
        "id": "xXY44HHyTtjS",
        "outputId": "f1391ffb-142a-4b6d-97e4-5547d4513c76"
      },
      "execution_count": null,
      "outputs": [
        {
          "output_type": "stream",
          "name": "stdout",
          "text": [
            "Hello, Jayanth!\n"
          ]
        }
      ]
    },
    {
      "cell_type": "markdown",
      "source": [
        "3. Default values: Use default values for parameters if no argument is passed."
      ],
      "metadata": {
        "id": "_RiR1jWDT218"
      }
    },
    {
      "cell_type": "code",
      "source": [
        "def greet(name, age=18):\n",
        "  print(f\"Hello, {name}! You are {age} years old.\")\n",
        "greet(\"Nithin\")"
      ],
      "metadata": {
        "colab": {
          "base_uri": "https://localhost:8080/"
        },
        "id": "Kk-uUdzxT_VJ",
        "outputId": "22d8a4d1-f7a4-4bf0-f3b8-458ccb4ecfd0"
      },
      "execution_count": null,
      "outputs": [
        {
          "output_type": "stream",
          "name": "stdout",
          "text": [
            "Hello, Nithin! You are 18 years old.\n"
          ]
        }
      ]
    },
    {
      "cell_type": "markdown",
      "source": [
        "4. Variable number of arguments: Use `*args` or `**kwargs` to pass a variable number of arguments."
      ],
      "metadata": {
        "id": "2VnKnIfuUoMK"
      }
    },
    {
      "cell_type": "code",
      "source": [
        "def greet(*names):\n",
        "    for name in names:\n",
        "        print(f\"Hello, {name}!\")\n",
        "\n",
        "greet(\"Nithin\", \"Jayanth\", \"Vihaan\")"
      ],
      "metadata": {
        "colab": {
          "base_uri": "https://localhost:8080/"
        },
        "id": "RKWFlti1UyHj",
        "outputId": "f45f2f2a-d5be-4fad-aff5-89c8c17f2420"
      },
      "execution_count": null,
      "outputs": [
        {
          "output_type": "stream",
          "name": "stdout",
          "text": [
            "Hello, Nithin!\n",
            "Hello, Jayanth!\n",
            "Hello, Vihaan!\n"
          ]
        }
      ]
    },
    {
      "cell_type": "markdown",
      "source": [
        "5. Using a function as an argument: Pass a function as an argument to another function."
      ],
      "metadata": {
        "id": "c_uscTf9VAA3"
      }
    },
    {
      "cell_type": "code",
      "source": [
        "def call_func(func, name):\n",
        "    func(name)\n",
        "\n",
        "call_func(greet, \"Nithin\")"
      ],
      "metadata": {
        "colab": {
          "base_uri": "https://localhost:8080/"
        },
        "id": "d5NGOLEDVEOz",
        "outputId": "7f6ab531-1ce9-47c2-ffb8-5ef0408f2482"
      },
      "execution_count": null,
      "outputs": [
        {
          "output_type": "stream",
          "name": "stdout",
          "text": [
            "Hello, Nithin!\n"
          ]
        }
      ]
    },
    {
      "cell_type": "markdown",
      "source": [
        "---\n",
        "\n",
        "###4. What is the purpose of the `return` statement in a Python function?\n",
        "- The return statement in a Python function is used to:\n",
        "\n",
        "  - Exit the function: The return statement immediately exits the function and returns control to the caller.\n",
        "  - Return a value: The return statement can return a value to the caller, which can be used for further processing."
      ],
      "metadata": {
        "id": "m_MwgVAMVNDT"
      }
    },
    {
      "cell_type": "code",
      "source": [
        "# example\n",
        "def add(a, b):\n",
        "    result = a + b\n",
        "    return result\n",
        "\n",
        "result = add(2, 3)\n",
        "print(result)\n",
        "#The return statement is optional, and if omitted, the function will return None by default.\n",
        "#A function can have multiple return statements, but only one will be executed.\n",
        "#The return type of a function can be any valid Python data type, including integers, strings, lists, dictionaries, and more."
      ],
      "metadata": {
        "colab": {
          "base_uri": "https://localhost:8080/"
        },
        "id": "W3zxRjXsV39s",
        "outputId": "f935e205-e424-4363-e225-e3614a94cb47"
      },
      "execution_count": null,
      "outputs": [
        {
          "output_type": "stream",
          "name": "stdout",
          "text": [
            "5\n"
          ]
        }
      ]
    },
    {
      "cell_type": "markdown",
      "source": [
        "---\n",
        "\n",
        "5. What are iterators in Python and how do they differ from iterables?\n",
        "- In Python, iterators and iterables are two related but distinct concepts:\n",
        "  - **Iterables**: Iterables are objects that can be iterated over, such as lists, tuples, dictionaries, and sets.\n",
        "    - Iterables can be used directly in a for loop.\n",
        "    - When an iterable is used in a for loop, it returns an iterator object.\n",
        "  - **Iterators**: Iterators are objects that keep track of their position in an iterable.\n",
        "    - Iterators return the next value in the iterable each time they are called.\n",
        "    - When an iterator reaches the end of the iterable, it raises a StopIteration exception.\n",
        "- Key differences\n",
        "1. Iterables can be iterated over multiple times, while iterators can only be used once.\n",
        "2. Iterators only return the next value when asked, while iterables return all values at once."
      ],
      "metadata": {
        "id": "0VZVHeAuWB-W"
      }
    },
    {
      "cell_type": "code",
      "source": [
        "# Example\n",
        "\n",
        "# Iterable (list)\n",
        "my_list = [1, 2, 3]\n",
        "\n",
        "# Iterator (created using iter() function)\n",
        "my_iterator = iter(my_list)\n",
        "\n",
        "# Using the iterator\n",
        "print(next(my_iterator))  # Output: 1\n",
        "print(next(my_iterator))  # Output: 2\n",
        "print(next(my_iterator))  # Output: 3\n",
        "\n",
        "# Raises StopIteration exception\n",
        "try:\n",
        "    print(next(my_iterator))\n",
        "except StopIteration:\n",
        "    print(\"End of iterator\")\n"
      ],
      "metadata": {
        "colab": {
          "base_uri": "https://localhost:8080/"
        },
        "id": "HWZaqvpXXphX",
        "outputId": "d8915e6f-f42f-4f29-d135-3dea5f50e2d1"
      },
      "execution_count": null,
      "outputs": [
        {
          "output_type": "stream",
          "name": "stdout",
          "text": [
            "1\n",
            "2\n",
            "3\n",
            "End of iterator\n"
          ]
        }
      ]
    },
    {
      "cell_type": "markdown",
      "source": [
        "---\n",
        "\n",
        "###6. Explain the concept of generators in Python and how they are defined.\n",
        "- Generators are a type of iterable object that can be used to generate a sequence of values on-the-fly, rather than storing them all in memory at once.\n",
        "- Defining a Generator\n",
        "  1. Using the yield keyword: Generators are defined using the yield keyword, which is used to produce a value from the generator.\n",
        "  2. Function-like syntax: Generators are defined using a function-like syntax, but they do not return values like functions do.\n",
        "  3. Use of yield instead of return: Instead of using the return statement, generators use the yield statement to produce values.\n"
      ],
      "metadata": {
        "id": "C4K-qQRHX-3q"
      }
    },
    {
      "cell_type": "code",
      "source": [
        "# example\n",
        "def my_generator():\n",
        "    yield 1\n",
        "    yield 2\n",
        "    yield 3\n",
        "\n",
        "# Using the generator\n",
        "for value in my_generator():\n",
        "    print(value)\n"
      ],
      "metadata": {
        "colab": {
          "base_uri": "https://localhost:8080/"
        },
        "id": "xX96Gy4cY1xE",
        "outputId": "2583fb74-a05f-4165-b3eb-b7ece15128b3"
      },
      "execution_count": null,
      "outputs": [
        {
          "output_type": "stream",
          "name": "stdout",
          "text": [
            "1\n",
            "2\n",
            "3\n"
          ]
        }
      ]
    },
    {
      "cell_type": "markdown",
      "source": [
        "---\n",
        "\n",
        "###7. What are the advantages of using generators over regular functions?\n",
        "- Generators use less memory because they only store the current value, whereas regular functions store all values in memory at once.\n",
        "- Generators only evaluate the next value when asked, which can improve performance by avoiding unnecessary computations.\n",
        "- Generators can improve performance by avoiding the need to store and manipulate large datasets.\n",
        "- Generators can simplify code by avoiding the need to explicitly manage state and iterate over values."
      ],
      "metadata": {
        "id": "zHBe7yn4Y1HM"
      }
    },
    {
      "cell_type": "code",
      "source": [
        "# Example\n",
        "\n",
        "def fibonacci(n):\n",
        "    a, b = 0, 1\n",
        "    for _ in range(n):\n",
        "        yield a\n",
        "        a, b = b, a + b\n",
        "\n",
        "# Using the generator\n",
        "for value in fibonacci(10):\n",
        "    print(value)"
      ],
      "metadata": {
        "colab": {
          "base_uri": "https://localhost:8080/"
        },
        "id": "MPBFBSORZvmF",
        "outputId": "57d40f03-58cb-4396-e758-8409addee101"
      },
      "execution_count": null,
      "outputs": [
        {
          "output_type": "stream",
          "name": "stdout",
          "text": [
            "0\n",
            "1\n",
            "1\n",
            "2\n",
            "3\n",
            "5\n",
            "8\n",
            "13\n",
            "21\n",
            "34\n"
          ]
        }
      ]
    },
    {
      "cell_type": "markdown",
      "source": [
        "---\n",
        "\n",
        "###8. What is a lambda function in Python and when is it typically used?\n",
        "- A lambda function is an anonymous function, meaning it is not declared with a name.\n",
        "- Lambda functions are defined inline within a larger expression.\n",
        "- Lambda functions can only contain a single expression, which is evaluated and returned.\n",
        "- Syntax-->   lambda arguments: expression"
      ],
      "metadata": {
        "id": "6H8UGTHsZ3_l"
      }
    },
    {
      "cell_type": "code",
      "source": [
        "# Example\n",
        "\n",
        "double = lambda x: x ** 2\n",
        "print(double(5))  # Output: 25"
      ],
      "metadata": {
        "colab": {
          "base_uri": "https://localhost:8080/"
        },
        "id": "8mKagclnawNm",
        "outputId": "64964c2f-beea-430e-d530-f7de021bda74"
      },
      "execution_count": null,
      "outputs": [
        {
          "output_type": "stream",
          "name": "stdout",
          "text": [
            "25\n"
          ]
        }
      ]
    },
    {
      "cell_type": "markdown",
      "source": [
        "- Typical Use Cases\n",
        "1. One-time use: Lambda functions are often used when a small, one-time-use function is needed.\n",
        "2. Higher-order functions: Lambda functions are often used as arguments to higher-order functions, such as map(), filter(), and reduce().\n",
        "3. Data processing: Lambda functions can be used to process data in a concise and expressive way."
      ],
      "metadata": {
        "id": "p4TyxMaqa9ZD"
      }
    },
    {
      "cell_type": "markdown",
      "source": [
        "---\n",
        "\n",
        "###9. Explain the purpose and usage of the `map()` function in Python.\n",
        "- The map() function in Python is a built-in function that applies a given function to each item of an iterable (such as a list, tuple, or string) and returns a map object.\n",
        "- **Purpose**\n",
        "  1. Apply a function to each item: The map() function applies a given function to each item of an iterable.\n",
        "  2. Return a map object: The map() function returns a map object, which is an iterator that yields the results of applying the function to each item.\n",
        "\n",
        "- **Syntax**\n",
        "\n",
        "  map(function, iterable)\n",
        "\n",
        "- **Usage**\n",
        "  1. Data processing: The map() function is often used for data processing, such as converting data types or applying transformations to data.\n",
        "  2. Functional programming: The map() function is a key concept in functional programming, where it is used to apply functions to data in a declarative way.\n",
        "  3. Concise code: The map() function can make code more concise and expressive, especially when working with large datasets.\n",
        "\n"
      ],
      "metadata": {
        "id": "BDMqbsqObD6O"
      }
    },
    {
      "cell_type": "code",
      "source": [
        "# Example map function\n",
        "\n",
        "def square(x):\n",
        "    return x ** 2\n",
        "\n",
        "numbers = [1, 2, 3, 4, 5]\n",
        "squared_numbers = list(map(square, numbers))\n",
        "print(squared_numbers)  # Output: [1, 4, 9, 16, 25]\n",
        "\n",
        "# Example use case\n",
        "names = ['Nithin', 'Rutu', 'Nitu']\n",
        "uppercase_names = list(map(str.upper, names))\n",
        "print(uppercase_names)  # Output: ['NITHIN', 'RUTU', 'NITU']\n"
      ],
      "metadata": {
        "colab": {
          "base_uri": "https://localhost:8080/"
        },
        "id": "A6QsKhO5b-IG",
        "outputId": "97062c35-d522-4334-9da2-09d30a4ba0fb"
      },
      "execution_count": null,
      "outputs": [
        {
          "output_type": "stream",
          "name": "stdout",
          "text": [
            "[1, 4, 9, 16, 25]\n",
            "['NITHIN', 'RUTU', 'NITU']\n"
          ]
        }
      ]
    },
    {
      "cell_type": "markdown",
      "source": [
        "---\n",
        "\n",
        "###10. What is the difference between map(), reduce(), and filter() functions in Python?\n",
        "- Key differences\n",
        "1. Purpose: map() applies a function to each item, filter() filters items based on a condition, and reduce() reduces the output to a single value.\n",
        "2. Return value: map() returns a map object, filter() returns a filter object, and reduce() returns a single value.\n",
        "3. Use case: map() is used for data transformation, filter() is used for data filtering, and reduce() is used for data aggregation."
      ],
      "metadata": {
        "id": "euTz51oSccO0"
      }
    },
    {
      "cell_type": "code",
      "source": [
        "# Example use cases\n",
        "\n",
        "# Map()\n",
        "numbers = [1, 2, 3]\n",
        "squared_numbers = list(map(lambda x: x ** 2, numbers))\n",
        "print(squared_numbers)  # Output: [1, 4, 9]\n",
        "\n",
        "# Filter()\n",
        "numbers = [1, 2, 3, 4]\n",
        "even_numbers = list(filter(lambda x: x % 2 == 0, numbers))\n",
        "print(even_numbers)  # Output: [2, 4]\n",
        "\n",
        "# Reduce()\n",
        "from functools import reduce\n",
        "numbers = [1, 2, 3]\n",
        "sum_of_numbers = reduce(lambda x, y: x + y, numbers)\n",
        "print(sum_of_numbers)  # Output: 6\n"
      ],
      "metadata": {
        "colab": {
          "base_uri": "https://localhost:8080/"
        },
        "id": "CGgGNAmpc5c8",
        "outputId": "87079d77-670c-4be9-f3ad-2d5d52d9fcd7"
      },
      "execution_count": null,
      "outputs": [
        {
          "output_type": "stream",
          "name": "stdout",
          "text": [
            "[1, 4, 9]\n",
            "[2, 4]\n",
            "6\n"
          ]
        }
      ]
    },
    {
      "cell_type": "markdown",
      "source": [
        " ---\n",
        "\n",
        "\n",
        "###11. Using pen & Paper write the internal mechanism for sum operation using  reduce function on this given\n",
        "list:[47,11,42,13];"
      ],
      "metadata": {
        "id": "_2pY87uOdDU9"
      }
    },
    {
      "cell_type": "code",
      "source": [
        "# Practical Questions\n",
        "\n",
        "#1. Write a Python function that takes a list of numbers as input and returns the sum of all even numbers in the list.\n",
        "list1 = [18,11,42,13]\n",
        "is_even = lambda n: n % 2 == 0\n",
        "even_numbers = list(filter(is_even, list1))\n",
        "print(even_numbers)"
      ],
      "metadata": {
        "colab": {
          "base_uri": "https://localhost:8080/"
        },
        "id": "RnHI-ADfkjqM",
        "outputId": "3f473a20-6921-4244-a5fc-215c5515b66a"
      },
      "execution_count": 2,
      "outputs": [
        {
          "output_type": "stream",
          "name": "stdout",
          "text": [
            "[18, 42]\n"
          ]
        }
      ]
    },
    {
      "cell_type": "code",
      "source": [
        "#2. Create a Python function that accepts a string and returns the reverse of that string.\n",
        "String = \"Nithin\"\n",
        "StrRev = lambda String: String[::-1]\n",
        "print(StrRev(String))"
      ],
      "metadata": {
        "colab": {
          "base_uri": "https://localhost:8080/"
        },
        "id": "VrQvqeoTlNPm",
        "outputId": "17c65f97-2c5b-4f21-e10a-4ded38b18407"
      },
      "execution_count": 3,
      "outputs": [
        {
          "output_type": "stream",
          "name": "stdout",
          "text": [
            "nihtiN\n"
          ]
        }
      ]
    },
    {
      "cell_type": "code",
      "source": [
        "#3. Implement a Python function that takes a list of integers and returns a new list containing the squares of each number.\n",
        "lis = [1, 3, 5, 7]\n",
        "SqList = lambda lis: [i**2 for i in lis]\n",
        "print(SqList(lis))"
      ],
      "metadata": {
        "colab": {
          "base_uri": "https://localhost:8080/"
        },
        "id": "K6216XyblgW9",
        "outputId": "9a6a0d35-638a-4ed3-9d99-c352708136ef"
      },
      "execution_count": 4,
      "outputs": [
        {
          "output_type": "stream",
          "name": "stdout",
          "text": [
            "[1, 9, 25, 49]\n"
          ]
        }
      ]
    },
    {
      "cell_type": "code",
      "source": [
        "#4. Write a Python function that checks if a given number is prime or not from 1 to 200.\n",
        "is_prime = lambda n: all(n % i != 0 for i in range(2, int(n**0.5) + 1))\n",
        "for num in range(1, 201):\n",
        "    if is_prime(num):\n",
        "        print(num)"
      ],
      "metadata": {
        "colab": {
          "base_uri": "https://localhost:8080/"
        },
        "id": "IHaIJa0slyGE",
        "outputId": "2b9568ba-e819-45ab-9606-514dc9e7ca2f"
      },
      "execution_count": 6,
      "outputs": [
        {
          "output_type": "stream",
          "name": "stdout",
          "text": [
            "1\n",
            "2\n",
            "3\n",
            "5\n",
            "7\n",
            "11\n",
            "13\n",
            "17\n",
            "19\n",
            "23\n",
            "29\n",
            "31\n",
            "37\n",
            "41\n",
            "43\n",
            "47\n",
            "53\n",
            "59\n",
            "61\n",
            "67\n",
            "71\n",
            "73\n",
            "79\n",
            "83\n",
            "89\n",
            "97\n",
            "101\n",
            "103\n",
            "107\n",
            "109\n",
            "113\n",
            "127\n",
            "131\n",
            "137\n",
            "139\n",
            "149\n",
            "151\n",
            "157\n",
            "163\n",
            "167\n",
            "173\n",
            "179\n",
            "181\n",
            "191\n",
            "193\n",
            "197\n",
            "199\n"
          ]
        }
      ]
    },
    {
      "cell_type": "code",
      "source": [
        "#5. Create an iterator class in Python that generates the Fibonacci sequence up to a specified number of terms.\n",
        "class FibonacciIterator:\n",
        "    def __init__(self, n):\n",
        "        self.n = n\n",
        "        self.a, self.b = 0, 1\n",
        "        self.count = 0\n",
        "\n",
        "    def __iter__(self):\n",
        "        return self\n",
        "    def __next__(self):\n",
        "        if self.count < self.n:\n",
        "            result = self.a\n",
        "            self.a, self.b = self.b, self.a + self.b\n",
        "            self.count += 1\n",
        "            return result\n",
        "        else:\n",
        "            raise StopIteration\n",
        "n = 10\n",
        "fibonacci_iterator = FibonacciIterator(n)\n",
        "for num in fibonacci_iterator:\n",
        "    print(num)"
      ],
      "metadata": {
        "colab": {
          "base_uri": "https://localhost:8080/"
        },
        "id": "RHxZ4V-vmJXN",
        "outputId": "66f70875-b499-47d4-c51e-3fa3f9330da6"
      },
      "execution_count": 14,
      "outputs": [
        {
          "output_type": "stream",
          "name": "stdout",
          "text": [
            "0\n",
            "1\n",
            "1\n",
            "2\n",
            "3\n",
            "5\n",
            "8\n",
            "13\n",
            "21\n",
            "34\n"
          ]
        }
      ]
    },
    {
      "cell_type": "code",
      "source": [
        "#6. Write a generator function in Python that yields the powers of 2 up to a given exponent.\n",
        "def power_of_two(exponent):\n",
        "    for i in range(exponent + 1):\n",
        "        yield 2 ** i\n",
        "exponent = 5\n",
        "for power in power_of_two(exponent):\n",
        "    print(power)\n"
      ],
      "metadata": {
        "colab": {
          "base_uri": "https://localhost:8080/"
        },
        "id": "Lxz6ZHVEm4Zs",
        "outputId": "811c92c1-766c-45d4-96ed-8afd9b8e7806"
      },
      "execution_count": 15,
      "outputs": [
        {
          "output_type": "stream",
          "name": "stdout",
          "text": [
            "1\n",
            "2\n",
            "4\n",
            "8\n",
            "16\n",
            "32\n"
          ]
        }
      ]
    },
    {
      "cell_type": "code",
      "source": [
        "#7. Implement a generator function that reads a file line by line and yields each line as a string.\n",
        "def read_file_lines(file_path):\n",
        "    with open(file_path, 'r') as file:\n",
        "        for line in file:\n",
        "            yield line.strip()\n",
        "            file_path = 'example.txt'\n",
        "for line in read_file_lines(file_path):\n",
        "    print(line)"
      ],
      "metadata": {
        "id": "JUWtVvTCxrxO"
      },
      "execution_count": null,
      "outputs": []
    },
    {
      "cell_type": "code",
      "source": [
        "#8. Use a lambda function in Python to sort a list of tuples based on the second element of each tuple.\n",
        "list_of_tuples = [(1, 3), (3, 2), (2, 1)]\n",
        "sorted_list = sorted(list_of_tuples, key=lambda x: x[1])\n",
        "print(sorted_list)"
      ],
      "metadata": {
        "colab": {
          "base_uri": "https://localhost:8080/"
        },
        "id": "SFbhhOzAxsy-",
        "outputId": "16be27d1-541d-4d8c-f01b-6479bc58bd6d"
      },
      "execution_count": 22,
      "outputs": [
        {
          "output_type": "stream",
          "name": "stdout",
          "text": [
            "[(2, 1), (3, 2), (1, 3)]\n"
          ]
        }
      ]
    },
    {
      "cell_type": "code",
      "source": [
        "#9. Write a Python program that uses `map()` to convert a list of temperatures from Celsius to Fahrenheit.\n",
        "celsius_temperatures = [0, 10, 20, 30, 40]\n",
        "fahrenheit_temperatures = list(map(lambda c: (c * 9/5) + 32, celsius_temperatures))\n",
        "print(fahrenheit_temperatures)"
      ],
      "metadata": {
        "colab": {
          "base_uri": "https://localhost:8080/"
        },
        "id": "-MU7PA3lx4u3",
        "outputId": "96cfa15e-0b19-4db4-a29f-76dca5bf57a3"
      },
      "execution_count": 26,
      "outputs": [
        {
          "output_type": "stream",
          "name": "stdout",
          "text": [
            "[32.0, 50.0, 68.0, 86.0, 104.0]\n"
          ]
        }
      ]
    },
    {
      "cell_type": "code",
      "source": [
        "#10. Create a Python program that uses `filter()` to remove all the vowels from a given string.\n",
        "string = \"Hello, World!\"\n",
        "vowels = 'aeiouAEIOU'\n",
        "filtered_string = ''.join(filter(lambda x: x not in vowels, string))\n",
        "print(filtered_string)"
      ],
      "metadata": {
        "colab": {
          "base_uri": "https://localhost:8080/"
        },
        "id": "2hXZIW6IyEuf",
        "outputId": "06c986ab-d728-480e-c140-96f4655e0269"
      },
      "execution_count": 27,
      "outputs": [
        {
          "output_type": "stream",
          "name": "stdout",
          "text": [
            "Hll, Wrld!\n"
          ]
        }
      ]
    },
    {
      "cell_type": "code",
      "source": [
        "'''11. Write a Python program, which returns a list with 2-tuples. Each tuple consists of the order number and the\n",
        "product of the price per item and the quantity. The product should be increased by 10,- € if the value of the\n",
        "order is smaller than 100,00 €.\n",
        "\n",
        "Write a Python program using lambda and map.\n",
        "'''\n",
        "orders = [ [\"34587\", \"Learning Python, Mark Lutz\", 4, 40.95],\n",
        "           [\"98762\", \"Programming Python, Mark Lutz\", 5, 56.80],\n",
        "           [\"77226\", \"Head First Python, Paul Barry\", 3,32.95],\n",
        "           [\"88112\", \"Einführung in Python3, Bernd Klein\", \t3, 24.99]]\n",
        "list_of_tuples = list(map(lambda order: (order[0], order[2] * order[3] + 10 if order[2] * order[3] < 100 else order[2] * order[3]), orders))\n",
        "print(list_of_tuples)"
      ],
      "metadata": {
        "colab": {
          "base_uri": "https://localhost:8080/"
        },
        "id": "2tp-v2qWyPaI",
        "outputId": "d979670c-390d-4f8a-ef10-72938de210a4"
      },
      "execution_count": 28,
      "outputs": [
        {
          "output_type": "stream",
          "name": "stdout",
          "text": [
            "[('34587', 163.8), ('98762', 284.0), ('77226', 108.85000000000001), ('88112', 84.97)]\n"
          ]
        }
      ]
    }
  ]
}